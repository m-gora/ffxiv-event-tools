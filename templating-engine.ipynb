{
 "cells": [
  {
   "cell_type": "markdown",
   "metadata": {},
   "source": [
    "# FFXIV Event Templating Engine\n",
    "This Jupyter Notebook creates message templates for FFXIV events.\\\n",
    "Each section guides you through the steps, what you need to do to create your own template.\\\n",
    "By default this Notebook comes with a ready made template for the 7th Haven community.\\\n",
    "You can create as many templates as you like, they will all be rendered and you can then just copy paste them to your\\\n",
    "servers and partake as soon as their markdown support releases.\n",
    "\n",
    "## Setting up\n",
    "The first 2 sections are just setup to make this Notebook work and create new functionality for the templating engine.\\\n",
    "These functions should not concern you, unless you're experience with Python and Jinja2 and want to create your own template extensions."
   ]
  },
  {
   "cell_type": "code",
   "execution_count": 189,
   "metadata": {},
   "outputs": [
    {
     "name": "stdout",
     "output_type": "stream",
     "text": [
      "Requirement already satisfied: jinja2 in ./.venv/lib/python3.11/site-packages (3.1.3)\n",
      "Requirement already satisfied: pyyaml in ./.venv/lib/python3.11/site-packages (6.0.1)\n",
      "Requirement already satisfied: MarkupSafe>=2.0 in ./.venv/lib/python3.11/site-packages (from jinja2) (2.1.5)\n",
      "\n",
      "\u001b[1m[\u001b[0m\u001b[34;49mnotice\u001b[0m\u001b[1;39;49m]\u001b[0m\u001b[39;49m A new release of pip is available: \u001b[0m\u001b[31;49m23.2.1\u001b[0m\u001b[39;49m -> \u001b[0m\u001b[32;49m24.0\u001b[0m\n",
      "\u001b[1m[\u001b[0m\u001b[34;49mnotice\u001b[0m\u001b[1;39;49m]\u001b[0m\u001b[39;49m To update, run: \u001b[0m\u001b[32;49mpip install --upgrade pip\u001b[0m\n",
      "Note: you may need to restart the kernel to use updated packages.\n"
     ]
    }
   ],
   "source": [
    "%pip install jinja2 pyyaml"
   ]
  },
  {
   "cell_type": "code",
   "execution_count": 190,
   "metadata": {},
   "outputs": [],
   "source": [
    "import jinja2\n",
    "import datetime\n",
    "def datetime_filter(value, format='%Y-%m-%d %H:%M%z'):\n",
    "    dt = datetime.datetime.strptime(value, format)\n",
    "    unixtime = int(dt.timestamp())\n",
    "    return unixtime\n",
    "\n",
    "def add_time(value, duration):\n",
    "    return value + duration * 60\n",
    "    \n",
    "\n",
    "j2_env = jinja2.Environment()\n",
    "j2_env.filters[\"hammertime\"] = datetime_filter\n",
    "j2_env.filters[\"add_time\"] = add_time\n"
   ]
  },
  {
   "cell_type": "markdown",
   "metadata": {},
   "source": [
    "## Define Templates\n",
    "Create all templates here that need to be rendered.\n",
    "\n",
    "E.g.\n",
    "\n",
    "[\n",
    "    \"\"\"\\\n",
    "    # {{ title }}\\\n",
    "    \"\"\",\\\n",
    "    \"\"\"\\\n",
    "    \\**{{ title }}**\\\n",
    "    \"\"\"\\\n",
    "]\n",
    "\n",
    "will render two templates, one with title as level 1 headline in markdown, and one with the title as bold text.\n",
    "\n",
    "\n",
    "This notebook comes with template filter extensions for easier handling of dates.\n",
    "\n",
    "**hammertime** converts a date from the format 2024-12-31 20:00 to a plain number (used in discord timestamps).\n",
    "\n",
    "This number can then be used to format it in discord e.g. <t:13123:t> just the hours or <t:123123:f> for the full date time.\n",
    "\n",
    "**add_time** will add a number of minutes to whatever hammertime has been created. This comes handy for reusing date times.\\\n",
    "e.g. {{ somedate | hammertime | add_time(60) }} will add 1 hour to whatever has been somedate originally."
   ]
  },
  {
   "cell_type": "code",
   "execution_count": 191,
   "metadata": {},
   "outputs": [],
   "source": [
    "import jinja2\n",
    "templates = [\n",
    "\"\"\"\n",
    "__**{{ event_title }}**__\n",
    "\n",
    "__**Venue/Event Name**__: {{ venue_name}}\n",
    "__**Server**__: {{ server_name}}\n",
    "__**Location**__: {{ location.area }} W{{ location.ward }} {{  location.plot }}\n",
    "__**Date and Time**__: <t:{{ date_time | hammertime }}:f>\n",
    "__**NSFW/Mature Venue/Event?**__: {{ nsfw }}\n",
    "__**Level of RP immersion**__: {{ rp_level }}\n",
    "__**Event Description:**__ \n",
    "{{ event_description }}\n",
    "\n",
    "__**DJ's / Music**__\n",
    "{%- for dj in djs %}\n",
    "<t:{{ date_time | hammertime | add_time(dj.time_offset) }}:t> [{{ dj.name }}](<https://twitch.tv/{{ dj.twitch_handle }}>)\n",
    "{%- endfor %}\n",
    "\n",
    "__**Links**__\n",
    ":globe_with_meridians: [Website](<{{ links.website }}>)\n",
    ":discord: [Discord](<https://discord.com/invite/{{ links.discord }}/>)\n",
    ":instagram: [Instagram](<https://instagram.com/{{ links.instagram }}/>)\n",
    ":partake: [Partake](<https://partake.gg/events/{{ links.partake }}/>)\n",
    "\"\"\",\n",
    "\"\"\"\n",
    "# {{ event_title }}\n",
    "{{ event_description }}\n",
    "\"\"\"\n",
    "]\n",
    "\n",
    "templates = map(j2_env.from_string, templates)"
   ]
  },
  {
   "cell_type": "markdown",
   "metadata": {},
   "source": [
    "# Fill the Templates\n",
    "Fill all the information below to automatically generate texts defined by your templates designed above."
   ]
  },
  {
   "cell_type": "markdown",
   "metadata": {},
   "source": []
  },
  {
   "cell_type": "code",
   "execution_count": 192,
   "metadata": {},
   "outputs": [
    {
     "name": "stdout",
     "output_type": "stream",
     "text": [
      "\n",
      "__**It's Valentime, Baby!**__\n",
      "\n",
      "__**Venue/Event Name**__: The Black Wolf\n",
      "__**Server**__: Odin\n",
      "__**Location**__: Mist W29 2\n",
      "__**Date and Time**__: <t:1707937200:f>\n",
      "__**NSFW/Mature Venue/Event?**__: True\n",
      "__**Level of RP immersion**__: 3\n",
      "__**Event Description:**__ \n",
      "This event is gonna be very awesome. With *lot's* of love and shit.\n",
      "\n",
      "\n",
      "__**DJ's / Music**__\n",
      "<t:1707937200:t> [DJ Kupo](<https://twitch.tv/djkupo>)\n",
      "<t:1707942600:t> [DJ Moogle](<https://twitch.tv/djmoogle>)\n",
      "<t:1707948000:t> [DJ Chocobo](<https://twitch.tv/djchocobo>)\n",
      "\n",
      "__**Links**__\n",
      ":globe_with_meridians: [Website](<https://theblackwolf.rocks>)\n",
      ":discord: [Discord](<https://discord.com/invite/Z2cRA3ygh7/>)\n",
      ":instagram: [Instagram](<https://instagram.com/theblackwolf.xiv/>)\n",
      ":partake: [Partake](<https://partake.gg/events/35661/>)\n",
      "============\n",
      "\n",
      "# It's Valentime, Baby!\n",
      "This event is gonna be very awesome. With *lot's* of love and shit.\n",
      "\n",
      "============\n"
     ]
    }
   ],
   "source": [
    "import yaml\n",
    "\n",
    "yml_string = \"\"\"\n",
    "event_title: It's Valentime, Baby!\n",
    "venue_name: The Black Wolf\n",
    "server_name: Odin\n",
    "location:\n",
    "  area: Mist\n",
    "  ward: 29\n",
    "  plot: 2\n",
    "date_time: 2024-02-14 20:00+0100\n",
    "nsfw: Yes\n",
    "rp_level: 3\n",
    "links:\n",
    "  website: https://theblackwolf.rocks\n",
    "  discord: Z2cRA3ygh7\n",
    "  instagram: theblackwolf.xiv\n",
    "  partake: 35661\n",
    "djs:\n",
    "  - name: DJ Kupo\n",
    "    time_offset: 0\n",
    "    twitch_handle: djkupo\n",
    "  - name: DJ Moogle\n",
    "    time_offset: 90\n",
    "    twitch_handle: djmoogle\n",
    "  - name: DJ Chocobo\n",
    "    time_offset: 180\n",
    "    twitch_handle: djchocobo\n",
    "event_description: |\n",
    "    This event is gonna be very awesome. With *lot's* of love and shit.\n",
    "\"\"\"\n",
    "\n",
    "data = yaml.safe_load(yml_string)\n",
    "\n",
    "for template in templates:\n",
    "    print(template.render(data))\n",
    "    print(\"============\")\n"
   ]
  }
 ],
 "metadata": {
  "kernelspec": {
   "display_name": ".venv",
   "language": "python",
   "name": "python3"
  },
  "language_info": {
   "codemirror_mode": {
    "name": "ipython",
    "version": 3
   },
   "file_extension": ".py",
   "mimetype": "text/x-python",
   "name": "python",
   "nbconvert_exporter": "python",
   "pygments_lexer": "ipython3",
   "version": "3.11.5"
  }
 },
 "nbformat": 4,
 "nbformat_minor": 2
}
